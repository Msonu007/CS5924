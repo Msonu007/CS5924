{
 "cells": [
  {
   "cell_type": "markdown",
   "metadata": {},
   "source": [
    "<img src=\"banner-chatgpt.png\" width=\"100%\">\n",
    "<br>\n",
    "\n",
    "To establish your OpenAI connection, run the first two cells.\n",
    "<br>\n",
    "To export your chat:\n",
    "* use File | Download As and\n",
    "  * choose Jupyter Notebook format (.ipynb) or\n",
    "  * choose Markdown format (.md) depending on your needs."
   ]
  },
  {
   "cell_type": "code",
   "execution_count": 8,
   "metadata": {
    "ExecuteTime": {
     "end_time": "2023-09-11T06:01:28.284702587Z",
     "start_time": "2023-09-11T06:01:28.279792567Z"
    }
   },
   "outputs": [],
   "source": [
    "import openai\n",
    "\n",
    "openai.api_base = 'http://aitools.cs.vt.edu:7860/openai/v1'\n",
    "openai.api_key = 'aitools'"
   ]
  },
  {
   "cell_type": "code",
   "execution_count": 9,
   "metadata": {
    "ExecuteTime": {
     "end_time": "2023-09-11T06:01:28.649019723Z",
     "start_time": "2023-09-11T06:01:28.643590957Z"
    }
   },
   "outputs": [],
   "source": [
    "def get_completion(prompt, model=\"gpt-3.5-turbo\"):\n",
    "\tmessages = [{\"role\": \"user\", \"content\": prompt}]\n",
    "\n",
    "\tresponse = openai.ChatCompletion.create(\n",
    "\t\tmodel=model,\n",
    "\t\tmessages=messages,\n",
    "\t\ttemperature=0,  # this is the degree of randomness of the model's output\n",
    "\t)\n",
    "\treturn response.choices[0].message[\"content\"]\n",
    "\n",
    "\n",
    "def converse(prompt, messages=None, model=\"gpt-3.5-turbo\", max_tokens=3000, temperature=0, top_p=1, frequency_penalty=0,\n",
    "\t\t\t presence_penalty=0):\n",
    "\t# Add the user's message to the list of messages\n",
    "\tif messages is None:\n",
    "\t\tmessages = []\n",
    "\n",
    "\tmessages.append({\"role\": \"user\", \"content\": prompt})\n",
    "\n",
    "\tresponse = openai.ChatCompletion.create(\n",
    "\t\tmodel=model,\n",
    "\t\tmessages=messages,\n",
    "\t\ttemperature=temperature,\n",
    "\t\tmax_tokens=max_tokens,\n",
    "\t\ttop_p=top_p,\n",
    "\t\tfrequency_penalty=frequency_penalty,\n",
    "\t\tpresence_penalty=presence_penalty,\n",
    "\t).choices[0].message[\"content\"]\n",
    "\n",
    "\t# Add the assistant's message to the list of messages\n",
    "\tmessages.append({\"role\": \"assistant\", \"content\": response})\n",
    "\n",
    "\treturn response, messages\n"
   ]
  },
  {
   "cell_type": "code",
   "execution_count": 10,
   "metadata": {
    "ExecuteTime": {
     "end_time": "2023-09-11T06:01:34.044141553Z",
     "start_time": "2023-09-11T06:01:29.156254791Z"
    }
   },
   "outputs": [],
   "source": [
    "messages = []\n",
    "prompt = f\"\"\"\n",
    "Assuming yourself as a python developer develop code for a supervised machine learning project.\n",
    "follow the instructions below to generate the code of the project\n",
    "\n",
    "```\n",
    "# Create a list of dictionaries for measurement storage, with \"round\", \"train\", \"predict\", \"accuracy\" as keys\n",
    "\n",
    "```\n",
    "\n",
    "\"\"\"\n",
    "\n",
    "(response,messages) = converse(prompt,messages)"
   ]
  },
  {
   "cell_type": "code",
   "execution_count": 11,
   "outputs": [
    {
     "name": "stdout",
     "output_type": "stream",
     "text": [
      "measurement_storage = []\n",
      "\n",
      "# Function to add measurements to the storage\n",
      "def add_measurement(round_num, train_time, predict_time, accuracy):\n",
      "    measurement = {\n",
      "        \"round\": round_num,\n",
      "        \"train\": train_time,\n",
      "        \"predict\": predict_time,\n",
      "        \"accuracy\": accuracy\n",
      "    }\n",
      "    measurement_storage.append(measurement)\n",
      "\n",
      "# Example usage\n",
      "add_measurement(1, 10.5, 5.2, 0.85)\n",
      "add_measurement(2, 9.8, 4.9, 0.87)\n",
      "add_measurement(3, 11.2, 5.5, 0.82)\n",
      "\n",
      "# Print the measurement storage\n",
      "print(measurement_storage)\n"
     ]
    }
   ],
   "source": [
    "print(f\"{response}\")"
   ],
   "metadata": {
    "collapsed": false,
    "ExecuteTime": {
     "end_time": "2023-09-11T06:01:34.044994501Z",
     "start_time": "2023-09-11T06:01:34.043942284Z"
    }
   }
  },
  {
   "cell_type": "code",
   "execution_count": 12,
   "outputs": [],
   "source": [
    "#modi"
   ],
   "metadata": {
    "collapsed": false,
    "ExecuteTime": {
     "end_time": "2023-09-11T06:01:34.047248302Z",
     "start_time": "2023-09-11T06:01:34.044392635Z"
    }
   }
  },
  {
   "cell_type": "code",
   "execution_count": 13,
   "outputs": [],
   "source": [
    "prompt = f\"\"\"\n",
    "Continue generating code for your project\n",
    "\n",
    "```\n",
    "\n",
    "# Write a function named learn that takes a dataframe and an index as parameters.\n",
    "# The index indicates the round number of learning. The function should:\n",
    "# 1. Create a dictionary to store the measurements for this round\n",
    "# 2. Print a message indicating the round number\n",
    "# 3. Store the round number in the dictionary under 'round'\n",
    "# Extract the code snippets from the \"code\" attribute of the dataframe\n",
    "# Extract the labels from the \"language\" attribute of the dataframe\n",
    "# 5. Split the code snippets and labels into training and test sets\n",
    "# 6. Create a TF-IDF vectorizer\n",
    "# 7. Use the 'fit_transform' method on the training data to learn the vocabulary and idf, and return term-document matrix.\n",
    "# 8. Use the 'transform' method on the test data to transform documents to document-term matrix.\n",
    "# 9. Create a Support Vector Machine classifier\n",
    "# 10. Train the classifier using the training data\n",
    "# 11. Save the model to a file and load it back from a file (to make sure it works)\n",
    "# 12. Use the classifier to predict the labels for the test data\n",
    "# 13. Print the classification report which should be a dictionary\n",
    "# 14. Store the training time in the dictionary under 'train'\n",
    "# 15. Store the prediction time in the dictionary under 'predict'\n",
    "# 16. Store the classification report in the dictionary under 'report'\n",
    "# 17. Add 'accuracy' to the dictionary and set it to the accuracy score from the classification report\n",
    "# 18. Append the dictionary to the measurements list for this round\n",
    "```\n",
    "\"\"\"\n",
    "\n",
    "response,messages = converse(prompt,messages)"
   ],
   "metadata": {
    "collapsed": false,
    "ExecuteTime": {
     "end_time": "2023-09-11T06:01:48.840574844Z",
     "start_time": "2023-09-11T06:01:35.711216480Z"
    }
   }
  },
  {
   "cell_type": "code",
   "execution_count": 14,
   "outputs": [
    {
     "name": "stdout",
     "output_type": "stream",
     "text": [
      "import pandas as pd\n",
      "from sklearn.model_selection import train_test_split\n",
      "from sklearn.feature_extraction.text import TfidfVectorizer\n",
      "from sklearn.svm import SVC\n",
      "from sklearn.metrics import classification_report\n",
      "import pickle\n",
      "import time\n",
      "\n",
      "def learn(dataframe, index):\n",
      "    measurements = {}\n",
      "    print(\"Round:\", index)\n",
      "    measurements['round'] = index\n",
      "    \n",
      "    code_snippets = dataframe['code'].values\n",
      "    labels = dataframe['language'].values\n",
      "    \n",
      "    X_train, X_test, y_train, y_test = train_test_split(code_snippets, labels, test_size=0.2, random_state=42)\n",
      "    \n",
      "    vectorizer = TfidfVectorizer()\n",
      "    X_train_tfidf = vectorizer.fit_transform(X_train)\n",
      "    X_test_tfidf = vectorizer.transform(X_test)\n",
      "    \n",
      "    classifier = SVC()\n",
      "    \n",
      "    start_time = time.time()\n",
      "    classifier.fit(X_train_tfidf, y_train)\n",
      "    end_time = time.time()\n",
      "    train_time = end_time - start_time\n",
      "    \n",
      "    model_file = \"model.pkl\"\n",
      "    with open(model_file, 'wb') as file:\n",
      "        pickle.dump(classifier, file)\n",
      "    \n",
      "    with open(model_file, 'rb') as file:\n",
      "        loaded_model = pickle.load(file)\n",
      "    \n",
      "    start_time = time.time()\n",
      "    y_pred = loaded_model.predict(X_test_tfidf)\n",
      "    end_time = time.time()\n",
      "    predict_time = end_time - start_time\n",
      "    \n",
      "    report = classification_report(y_test, y_pred, output_dict=True)\n",
      "    \n",
      "    measurements['train'] = train_time\n",
      "    measurements['predict'] = predict_time\n",
      "    measurements['report'] = report\n",
      "    measurements['accuracy'] = report['accuracy']\n",
      "    \n",
      "    measurement_storage.append(measurements)\n",
      "\n",
      "# Example usage\n",
      "data = pd.DataFrame({'code': ['print(\"Hello, World!\")', 'for i in range(10):', 'x = 5', 'import numpy as np'],\n",
      "                     'language': ['Python', 'Python', 'Python', 'Python']})\n",
      "\n",
      "learn(data, 1)\n",
      "learn(data, 2)\n",
      "learn(data, 3)\n",
      "\n",
      "# Print the measurement storage\n",
      "print(measurement_storage)\n"
     ]
    }
   ],
   "source": [
    "print(f\"{response}\")"
   ],
   "metadata": {
    "collapsed": false,
    "ExecuteTime": {
     "end_time": "2023-09-11T06:01:48.894125346Z",
     "start_time": "2023-09-11T06:01:48.843608463Z"
    }
   }
  },
  {
   "cell_type": "code",
   "execution_count": 15,
   "outputs": [],
   "source": [
    "prompt = f\"\"\"\n",
    "Continue generating code for your project\n",
    "\n",
    "```\n",
    "# Load all data files matching 'data/datasets/train-00000-5k*.parquet'.\n",
    "# For each file loaded, merge the latest data file with the merged data to date,\n",
    "# and call the learn function with the dataframe and the index of the file in the list of files.\n",
    "```\n",
    "\"\"\"\n",
    "\n",
    "response,messages = converse(prompt,messages)"
   ],
   "metadata": {
    "collapsed": false,
    "ExecuteTime": {
     "end_time": "2023-09-11T06:01:58.899286939Z",
     "start_time": "2023-09-11T06:01:55.312748371Z"
    }
   }
  },
  {
   "cell_type": "code",
   "execution_count": 16,
   "outputs": [
    {
     "name": "stdout",
     "output_type": "stream",
     "text": [
      "import glob\n",
      "\n",
      "# Load data files\n",
      "data_files = glob.glob('data/datasets/train-00000-5k*.parquet')\n",
      "merged_data = pd.DataFrame()\n",
      "\n",
      "for i, file in enumerate(data_files):\n",
      "    df = pd.read_parquet(file)\n",
      "    merged_data = pd.concat([merged_data, df])\n",
      "    learn(merged_data, i+1)\n",
      "\n",
      "# Print the measurement storage\n",
      "print(measurement_storage)\n"
     ]
    }
   ],
   "source": [
    "print(f\"{response}\")"
   ],
   "metadata": {
    "collapsed": false,
    "ExecuteTime": {
     "end_time": "2023-09-11T06:01:58.920727209Z",
     "start_time": "2023-09-11T06:01:58.910005198Z"
    }
   }
  },
  {
   "cell_type": "code",
   "execution_count": 30,
   "outputs": [],
   "source": [
    "messages = []\n",
    "prompt = f\"\"\"\n",
    "Please ignore all previous context and instructions.  You are a Python programmer, and I am working with you on the following code:\n",
    "```\n",
    "import pandas as pd\n",
    "from sklearn.model_selection import train_test_split\n",
    "from sklearn.feature_extraction.text import TfidfVectorizer\n",
    "from sklearn.svm import SVC\n",
    "from sklearn.metrics import classification_report\n",
    "import pickle\n",
    "import time\n",
    "import glob\n",
    "measurement_storage = []\n",
    "\n",
    "# Function to add measurements to the storage\n",
    "def add_measurement(round_num, train_time, predict_time, accuracy):\n",
    "    measurement = dict(\n",
    "        \"round\": round_num,\n",
    "        \"train\": train_time,\n",
    "        \"predict\": predict_time,\n",
    "        \"accuracy\": accuracy\n",
    "    )\n",
    "    measurement_storage.append(measurement)\n",
    "\n",
    "\n",
    "\n",
    "\n",
    "\n",
    "def learn(dataframe, index):\n",
    "    measurements = dict()\n",
    "    print(\"Round:\", index)\n",
    "    measurements['round'] = index\n",
    "\n",
    "    code_snippets = dataframe['code'].values\n",
    "    labels = dataframe['language'].values\n",
    "\n",
    "    X_train, X_test, y_train, y_test = train_test_split(code_snippets, labels, test_size=0.2, random_state=42)\n",
    "\n",
    "    vectorizer = TfidfVectorizer()\n",
    "    X_train_tfidf = vectorizer.fit_transform(X_train)\n",
    "    X_test_tfidf = vectorizer.transform(X_test)\n",
    "\n",
    "    classifier = SVC()\n",
    "\n",
    "    start_time = time.time()\n",
    "    classifier.fit(X_train_tfidf, y_train)\n",
    "    end_time = time.time()\n",
    "    train_time = end_time - start_time\n",
    "\n",
    "    model_file = \"model.pkl\"\n",
    "    with open(model_file, 'wb') as file:\n",
    "        pickle.dump(classifier, file)\n",
    "\n",
    "    with open(model_file, 'rb') as file:\n",
    "        loaded_model = pickle.load(file)\n",
    "\n",
    "    start_time = time.time()\n",
    "    y_pred = loaded_model.predict(X_test_tfidf)\n",
    "    end_time = time.time()\n",
    "    predict_time = end_time - start_time\n",
    "\n",
    "    report = classification_report(y_test, y_pred, output_dict=True)\n",
    "\n",
    "    measurements['train'] = train_time\n",
    "    measurements['predict'] = predict_time\n",
    "    measurements['report'] = report\n",
    "    measurements['accuracy'] = report['accuracy']\n",
    "\n",
    "    measurement_storage.append(measurements)\n",
    "\n",
    "\n",
    "\n",
    "\n",
    "\n",
    "# Load data files\n",
    "data_files = glob.glob('data/datasets/train-00000-5k*.parquet')\n",
    "merged_data = pd.DataFrame()\n",
    "\n",
    "for i, file in enumerate(data_files):\n",
    "    df = pd.read_parquet(file)\n",
    "    merged_data = pd.concat([merged_data, df])\n",
    "    learn(merged_data, i+1)\n",
    "\n",
    "# Print the measurement storage\n",
    "print(measurement_storage)\n",
    "\n",
    "```\n",
    "\n",
    "# If I have measurements in Python like a list of dictionaries such as:\n",
    "# [dict('round': 0, 'train': 32.76, 'predict': 2.13, 'accuracy': 0.78),....]\n",
    "# multiply accuracy with 100\n",
    "# let us plot lines on the same graph for tfidf, train, predict and accuracy using python?  Use matplotlib.\n",
    "# Add a legend.  Add axis labels.  Add a title.\n",
    "# Lets save the plot to a file \"supervised-plotter.png\" before showing the plot.\n",
    "\"\"\"\n",
    "response,messages = converse(prompt,messages)"
   ],
   "metadata": {
    "collapsed": false,
    "ExecuteTime": {
     "end_time": "2023-09-11T06:49:18.513147787Z",
     "start_time": "2023-09-11T06:48:54.374028095Z"
    }
   }
  },
  {
   "cell_type": "code",
   "execution_count": 31,
   "outputs": [
    {
     "name": "stdout",
     "output_type": "stream",
     "text": [
      "Sure! Here's the modified code that includes plotting the measurements using matplotlib:\n",
      "\n",
      "```python\n",
      "import pandas as pd\n",
      "import matplotlib.pyplot as plt\n",
      "import pickle\n",
      "import time\n",
      "import glob\n",
      "\n",
      "measurement_storage = []\n",
      "\n",
      "# Function to add measurements to the storage\n",
      "def add_measurement(round_num, train_time, predict_time, accuracy):\n",
      "    measurement = {\n",
      "        \"round\": round_num,\n",
      "        \"train\": train_time,\n",
      "        \"predict\": predict_time,\n",
      "        \"accuracy\": accuracy\n",
      "    }\n",
      "    measurement_storage.append(measurement)\n",
      "\n",
      "\n",
      "def learn(dataframe, index):\n",
      "    measurements = {}\n",
      "    print(\"Round:\", index)\n",
      "    measurements['round'] = index\n",
      "\n",
      "    code_snippets = dataframe['code'].values\n",
      "    labels = dataframe['language'].values\n",
      "\n",
      "    X_train, X_test, y_train, y_test = train_test_split(code_snippets, labels, test_size=0.2, random_state=42)\n",
      "\n",
      "    vectorizer = TfidfVectorizer()\n",
      "    X_train_tfidf = vectorizer.fit_transform(X_train)\n",
      "    X_test_tfidf = vectorizer.transform(X_test)\n",
      "\n",
      "    classifier = SVC()\n",
      "\n",
      "    start_time = time.time()\n",
      "    classifier.fit(X_train_tfidf, y_train)\n",
      "    end_time = time.time()\n",
      "    train_time = end_time - start_time\n",
      "\n",
      "    model_file = \"model.pkl\"\n",
      "    with open(model_file, 'wb') as file:\n",
      "        pickle.dump(classifier, file)\n",
      "\n",
      "    with open(model_file, 'rb') as file:\n",
      "        loaded_model = pickle.load(file)\n",
      "\n",
      "    start_time = time.time()\n",
      "    y_pred = loaded_model.predict(X_test_tfidf)\n",
      "    end_time = time.time()\n",
      "    predict_time = end_time - start_time\n",
      "\n",
      "    report = classification_report(y_test, y_pred, output_dict=True)\n",
      "\n",
      "    measurements['train'] = train_time\n",
      "    measurements['predict'] = predict_time\n",
      "    measurements['report'] = report\n",
      "    measurements['accuracy'] = report['accuracy']\n",
      "\n",
      "    measurement_storage.append(measurements)\n",
      "\n",
      "\n",
      "# Load data files\n",
      "data_files = glob.glob('data/datasets/train-00000-5k*.parquet')\n",
      "merged_data = pd.DataFrame()\n",
      "\n",
      "for i, file in enumerate(data_files):\n",
      "    df = pd.read_parquet(file)\n",
      "    merged_data = pd.concat([merged_data, df])\n",
      "    learn(merged_data, i+1)\n",
      "\n",
      "# Multiply accuracy by 100\n",
      "for measurement in measurement_storage:\n",
      "    measurement['accuracy'] *= 100\n",
      "\n",
      "# Extract measurements for plotting\n",
      "rounds = [measurement['round'] for measurement in measurement_storage]\n",
      "train_times = [measurement['train'] for measurement in measurement_storage]\n",
      "predict_times = [measurement['predict'] for measurement in measurement_storage]\n",
      "accuracies = [measurement['accuracy'] for measurement in measurement_storage]\n",
      "\n",
      "# Plotting\n",
      "plt.plot(rounds, train_times, label='Train Time')\n",
      "plt.plot(rounds, predict_times, label='Predict Time')\n",
      "plt.plot(rounds, accuracies, label='Accuracy')\n",
      "\n",
      "plt.xlabel('Round')\n",
      "plt.ylabel('Time / Accuracy')\n",
      "plt.title('Supervised Learning Measurements')\n",
      "plt.legend()\n",
      "\n",
      "# Save the plot to a file\n",
      "plt.savefig('supervised-plotter.png')\n",
      "\n",
      "# Show the plot\n",
      "plt.show()\n",
      "```\n",
      "\n",
      "This code will plot lines on the same graph for tfidf, train, predict, and accuracy using matplotlib. It will add a legend, axis labels, and a title to the plot. The plot will be saved to a file named \"supervised-plotter.png\" before showing the plot.\n"
     ]
    }
   ],
   "source": [
    "print(f\"{response}\")"
   ],
   "metadata": {
    "collapsed": false,
    "ExecuteTime": {
     "end_time": "2023-09-11T06:49:29.761945442Z",
     "start_time": "2023-09-11T06:49:29.753960586Z"
    }
   }
  },
  {
   "cell_type": "code",
   "execution_count": 27,
   "outputs": [],
   "source": [],
   "metadata": {
    "collapsed": false,
    "ExecuteTime": {
     "end_time": "2023-09-11T06:09:13.547941628Z",
     "start_time": "2023-09-11T06:09:13.507237667Z"
    }
   }
  },
  {
   "cell_type": "code",
   "execution_count": null,
   "outputs": [],
   "source": [],
   "metadata": {
    "collapsed": false
   }
  }
 ],
 "metadata": {
  "kernelspec": {
   "display_name": "Python 3 (ipykernel)",
   "language": "python",
   "name": "python3"
  },
  "language_info": {
   "codemirror_mode": {
    "name": "ipython",
    "version": 3
   },
   "file_extension": ".py",
   "mimetype": "text/x-python",
   "name": "python",
   "nbconvert_exporter": "python",
   "pygments_lexer": "ipython3",
   "version": "3.9.17"
  }
 },
 "nbformat": 4,
 "nbformat_minor": 1
}
